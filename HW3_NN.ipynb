{
  "nbformat": 4,
  "nbformat_minor": 0,
  "metadata": {
    "colab": {
      "name": "HW3_NN.ipynb",
      "provenance": [],
      "authorship_tag": "ABX9TyMwWmblqLQbFs1zgbNIlzIQ",
      "include_colab_link": true
    },
    "kernelspec": {
      "name": "python3",
      "display_name": "Python 3"
    },
    "language_info": {
      "name": "python"
    },
    "accelerator": "GPU"
  },
  "cells": [
    {
      "cell_type": "markdown",
      "metadata": {
        "id": "view-in-github",
        "colab_type": "text"
      },
      "source": [
        "<a href=\"https://colab.research.google.com/github/OlgaNezh/Neural_Networks/blob/main/HW3_NN.ipynb\" target=\"_parent\"><img src=\"https://colab.research.google.com/assets/colab-badge.svg\" alt=\"Open In Colab\"/></a>"
      ]
    },
    {
      "cell_type": "markdown",
      "source": [
        "Постройте нейронную сеть(берем простую линейную сеть, которую разбирали на уроке: меняем число слоев, число нейронов , типы активации, тип оптимизатора)  на датасет from sklearn.datasets import load_boston."
      ],
      "metadata": {
        "id": "zdb1dFhGKYvv"
      }
    },
    {
      "cell_type": "code",
      "execution_count": 33,
      "metadata": {
        "id": "4k3cV_yhGqqi"
      },
      "outputs": [],
      "source": [
        "from tensorflow.keras.layers import Input, Flatten\n",
        "from tensorflow.keras.models import Model\n",
        "import tensorflow as tf\n",
        "from tensorflow import keras"
      ]
    },
    {
      "cell_type": "code",
      "source": [
        "(train_features, train_labels), (test_features, test_labels) = keras.datasets.boston_housing.load_data()"
      ],
      "metadata": {
        "id": "QImIFbC1Gx5N"
      },
      "execution_count": 34,
      "outputs": []
    },
    {
      "cell_type": "code",
      "source": [
        "model = keras.Sequential([\n",
        "    keras.layers.Dense(20, activation='relu'),\n",
        "    keras.layers.Dense(1)\n",
        "])\n",
        "\n",
        "model.compile(optimizer='adam',\n",
        "              loss='mse',\n",
        "              metrics=['mae', 'mse'])\n",
        "\n",
        "model.fit(train_features, train_labels, epochs=3)\n",
        "\n",
        "test_loss, test_mae, test_mse = model.evaluate(test_features, test_labels, verbose=2)\n",
        "\n",
        "print('\\nTest mae:', test_mae)\n",
        "print('\\nTest mse:', test_mse)\n"
      ],
      "metadata": {
        "colab": {
          "base_uri": "https://localhost:8080/"
        },
        "id": "MGVPhSSlG0c6",
        "outputId": "83262e2d-85c3-4e88-b244-1dc381edaa2e"
      },
      "execution_count": 41,
      "outputs": [
        {
          "output_type": "stream",
          "name": "stdout",
          "text": [
            "Epoch 1/3\n",
            "13/13 [==============================] - 0s 3ms/step - loss: 5997.1768 - mae: 68.6800 - mse: 5997.1768\n",
            "Epoch 2/3\n",
            "13/13 [==============================] - 0s 3ms/step - loss: 3824.7778 - mae: 53.2709 - mse: 3824.7778\n",
            "Epoch 3/3\n",
            "13/13 [==============================] - 0s 2ms/step - loss: 2560.4543 - mae: 43.2818 - mse: 2560.4543\n",
            "4/4 - 0s - loss: 2082.6909 - mae: 40.0264 - mse: 2082.6909 - 97ms/epoch - 24ms/step\n",
            "\n",
            "Test mae: 40.02640914916992\n",
            "\n",
            "Test mse: 2082.69091796875\n"
          ]
        }
      ]
    },
    {
      "cell_type": "markdown",
      "source": [
        "  2. Измените функцию потерь и метрику для этой задачи. Постройте 10-15 вариантов и сведите результаты их работы в таблицу  Опишите, какого результата вы добились от нейросети? Что помогло вам улучшить ее точность?\n"
      ],
      "metadata": {
        "id": "bK7IOpy3LDzx"
      }
    },
    {
      "cell_type": "code",
      "source": [
        "import pandas as pd\n",
        "df = pd.DataFrame(columns=['optimizer', 'layers', 'epochs', 'mae', 'mse'])"
      ],
      "metadata": {
        "id": "-PR_dxvEHG44"
      },
      "execution_count": 42,
      "outputs": []
    },
    {
      "cell_type": "code",
      "source": [
        "df.loc[-1] = ['adam', '2', '3', test_mae, test_mse]\n",
        "df.index = df.index + 1\n",
        "df = df.sort_index()"
      ],
      "metadata": {
        "id": "_COMYxmkHLjZ"
      },
      "execution_count": 43,
      "outputs": []
    },
    {
      "cell_type": "code",
      "source": [
        "df"
      ],
      "metadata": {
        "colab": {
          "base_uri": "https://localhost:8080/",
          "height": 81
        },
        "id": "mJVZlsX4HdyO",
        "outputId": "8f8e71e2-1d9d-4085-9d78-f64002e28e13"
      },
      "execution_count": 44,
      "outputs": [
        {
          "output_type": "execute_result",
          "data": {
            "text/plain": [
              "  optimizer layers epochs        mae          mse\n",
              "0      adam      2      3  40.026409  2082.690918"
            ],
            "text/html": [
              "\n",
              "  <div id=\"df-78ba207c-20cd-449f-b7a4-82b41bac3ff0\">\n",
              "    <div class=\"colab-df-container\">\n",
              "      <div>\n",
              "<style scoped>\n",
              "    .dataframe tbody tr th:only-of-type {\n",
              "        vertical-align: middle;\n",
              "    }\n",
              "\n",
              "    .dataframe tbody tr th {\n",
              "        vertical-align: top;\n",
              "    }\n",
              "\n",
              "    .dataframe thead th {\n",
              "        text-align: right;\n",
              "    }\n",
              "</style>\n",
              "<table border=\"1\" class=\"dataframe\">\n",
              "  <thead>\n",
              "    <tr style=\"text-align: right;\">\n",
              "      <th></th>\n",
              "      <th>optimizer</th>\n",
              "      <th>layers</th>\n",
              "      <th>epochs</th>\n",
              "      <th>mae</th>\n",
              "      <th>mse</th>\n",
              "    </tr>\n",
              "  </thead>\n",
              "  <tbody>\n",
              "    <tr>\n",
              "      <th>0</th>\n",
              "      <td>adam</td>\n",
              "      <td>2</td>\n",
              "      <td>3</td>\n",
              "      <td>40.026409</td>\n",
              "      <td>2082.690918</td>\n",
              "    </tr>\n",
              "  </tbody>\n",
              "</table>\n",
              "</div>\n",
              "      <button class=\"colab-df-convert\" onclick=\"convertToInteractive('df-78ba207c-20cd-449f-b7a4-82b41bac3ff0')\"\n",
              "              title=\"Convert this dataframe to an interactive table.\"\n",
              "              style=\"display:none;\">\n",
              "        \n",
              "  <svg xmlns=\"http://www.w3.org/2000/svg\" height=\"24px\"viewBox=\"0 0 24 24\"\n",
              "       width=\"24px\">\n",
              "    <path d=\"M0 0h24v24H0V0z\" fill=\"none\"/>\n",
              "    <path d=\"M18.56 5.44l.94 2.06.94-2.06 2.06-.94-2.06-.94-.94-2.06-.94 2.06-2.06.94zm-11 1L8.5 8.5l.94-2.06 2.06-.94-2.06-.94L8.5 2.5l-.94 2.06-2.06.94zm10 10l.94 2.06.94-2.06 2.06-.94-2.06-.94-.94-2.06-.94 2.06-2.06.94z\"/><path d=\"M17.41 7.96l-1.37-1.37c-.4-.4-.92-.59-1.43-.59-.52 0-1.04.2-1.43.59L10.3 9.45l-7.72 7.72c-.78.78-.78 2.05 0 2.83L4 21.41c.39.39.9.59 1.41.59.51 0 1.02-.2 1.41-.59l7.78-7.78 2.81-2.81c.8-.78.8-2.07 0-2.86zM5.41 20L4 18.59l7.72-7.72 1.47 1.35L5.41 20z\"/>\n",
              "  </svg>\n",
              "      </button>\n",
              "      \n",
              "  <style>\n",
              "    .colab-df-container {\n",
              "      display:flex;\n",
              "      flex-wrap:wrap;\n",
              "      gap: 12px;\n",
              "    }\n",
              "\n",
              "    .colab-df-convert {\n",
              "      background-color: #E8F0FE;\n",
              "      border: none;\n",
              "      border-radius: 50%;\n",
              "      cursor: pointer;\n",
              "      display: none;\n",
              "      fill: #1967D2;\n",
              "      height: 32px;\n",
              "      padding: 0 0 0 0;\n",
              "      width: 32px;\n",
              "    }\n",
              "\n",
              "    .colab-df-convert:hover {\n",
              "      background-color: #E2EBFA;\n",
              "      box-shadow: 0px 1px 2px rgba(60, 64, 67, 0.3), 0px 1px 3px 1px rgba(60, 64, 67, 0.15);\n",
              "      fill: #174EA6;\n",
              "    }\n",
              "\n",
              "    [theme=dark] .colab-df-convert {\n",
              "      background-color: #3B4455;\n",
              "      fill: #D2E3FC;\n",
              "    }\n",
              "\n",
              "    [theme=dark] .colab-df-convert:hover {\n",
              "      background-color: #434B5C;\n",
              "      box-shadow: 0px 1px 3px 1px rgba(0, 0, 0, 0.15);\n",
              "      filter: drop-shadow(0px 1px 2px rgba(0, 0, 0, 0.3));\n",
              "      fill: #FFFFFF;\n",
              "    }\n",
              "  </style>\n",
              "\n",
              "      <script>\n",
              "        const buttonEl =\n",
              "          document.querySelector('#df-78ba207c-20cd-449f-b7a4-82b41bac3ff0 button.colab-df-convert');\n",
              "        buttonEl.style.display =\n",
              "          google.colab.kernel.accessAllowed ? 'block' : 'none';\n",
              "\n",
              "        async function convertToInteractive(key) {\n",
              "          const element = document.querySelector('#df-78ba207c-20cd-449f-b7a4-82b41bac3ff0');\n",
              "          const dataTable =\n",
              "            await google.colab.kernel.invokeFunction('convertToInteractive',\n",
              "                                                     [key], {});\n",
              "          if (!dataTable) return;\n",
              "\n",
              "          const docLinkHtml = 'Like what you see? Visit the ' +\n",
              "            '<a target=\"_blank\" href=https://colab.research.google.com/notebooks/data_table.ipynb>data table notebook</a>'\n",
              "            + ' to learn more about interactive tables.';\n",
              "          element.innerHTML = '';\n",
              "          dataTable['output_type'] = 'display_data';\n",
              "          await google.colab.output.renderOutput(dataTable, element);\n",
              "          const docLink = document.createElement('div');\n",
              "          docLink.innerHTML = docLinkHtml;\n",
              "          element.appendChild(docLink);\n",
              "        }\n",
              "      </script>\n",
              "    </div>\n",
              "  </div>\n",
              "  "
            ]
          },
          "metadata": {},
          "execution_count": 44
        }
      ]
    },
    {
      "cell_type": "code",
      "source": [
        "model = keras.Sequential([\n",
        "    keras.layers.Dense(20, activation='relu'),\n",
        "    keras.layers.Dense(20),\n",
        "    keras.layers.Dense(20),\n",
        "    keras.layers.Dense(20),\n",
        "    keras.layers.Dense(1)\n",
        "])\n",
        "\n",
        "model.compile(optimizer='adam',\n",
        "              loss='mse',\n",
        "              metrics=['mae', 'mse'])\n",
        "\n",
        "model.fit(train_features, train_labels, epochs=3)\n",
        "\n",
        "test_loss, test_mae, test_mse = model.evaluate(test_features, test_labels, verbose=2)\n"
      ],
      "metadata": {
        "colab": {
          "base_uri": "https://localhost:8080/"
        },
        "id": "4fNasfKmHoD9",
        "outputId": "fb2d5441-63c8-42ba-fc86-4ced65a005ed"
      },
      "execution_count": 45,
      "outputs": [
        {
          "output_type": "stream",
          "name": "stdout",
          "text": [
            "Epoch 1/3\n",
            "13/13 [==============================] - 0s 3ms/step - loss: 1538.6223 - mae: 30.2920 - mse: 1538.6223\n",
            "Epoch 2/3\n",
            "13/13 [==============================] - 0s 3ms/step - loss: 455.5097 - mae: 16.9279 - mse: 455.5097\n",
            "Epoch 3/3\n",
            "13/13 [==============================] - 0s 3ms/step - loss: 287.3699 - mae: 13.4992 - mse: 287.3699\n",
            "4/4 - 0s - loss: 249.5071 - mae: 13.1966 - mse: 249.5071 - 107ms/epoch - 27ms/step\n"
          ]
        }
      ]
    },
    {
      "cell_type": "code",
      "source": [
        "df.loc[-1] = ['adam', '5', '3', test_mae, test_mse]\n",
        "df.index = df.index + 1\n",
        "df = df.sort_index()"
      ],
      "metadata": {
        "id": "BjmfYFIHHtE9"
      },
      "execution_count": 46,
      "outputs": []
    },
    {
      "cell_type": "code",
      "source": [
        "model = keras.Sequential([\n",
        "    keras.layers.Dense(20, activation='relu'),\n",
        "    keras.layers.Dense(20),\n",
        "    keras.layers.Dense(20),\n",
        "    keras.layers.Dense(20),\n",
        "    keras.layers.Dense(1)\n",
        "])\n",
        "\n",
        "model.compile(optimizer='adam',\n",
        "              loss='mse',\n",
        "              metrics=['mae', 'mse'])\n",
        "\n",
        "model.fit(train_features, train_labels, epochs=5)\n",
        "\n",
        "test_loss, test_mae, test_mse = model.evaluate(test_features, test_labels, verbose=2)"
      ],
      "metadata": {
        "colab": {
          "base_uri": "https://localhost:8080/"
        },
        "id": "NUSg5ixPHwyw",
        "outputId": "da1c7789-2f20-4811-e4d1-5d5a05f7e82f"
      },
      "execution_count": 47,
      "outputs": [
        {
          "output_type": "stream",
          "name": "stdout",
          "text": [
            "Epoch 1/5\n",
            "13/13 [==============================] - 0s 5ms/step - loss: 1451.3276 - mae: 31.5939 - mse: 1451.3276\n",
            "Epoch 2/5\n",
            "13/13 [==============================] - 0s 4ms/step - loss: 254.5409 - mae: 12.8824 - mse: 254.5409\n",
            "Epoch 3/5\n",
            "13/13 [==============================] - 0s 5ms/step - loss: 142.2385 - mae: 9.0782 - mse: 142.2385\n",
            "Epoch 4/5\n",
            "13/13 [==============================] - 0s 3ms/step - loss: 102.2154 - mae: 8.0192 - mse: 102.2154\n",
            "Epoch 5/5\n",
            "13/13 [==============================] - 0s 3ms/step - loss: 84.3572 - mae: 6.6485 - mse: 84.3572\n",
            "4/4 - 0s - loss: 69.6633 - mae: 6.1924 - mse: 69.6633 - 109ms/epoch - 27ms/step\n"
          ]
        }
      ]
    },
    {
      "cell_type": "code",
      "source": [
        "df.loc[-1] = ['adam', '5', '5', test_mae, test_mse]\n",
        "df.index = df.index + 1\n",
        "df = df.sort_index()"
      ],
      "metadata": {
        "id": "na0AjfNcLsJw"
      },
      "execution_count": 48,
      "outputs": []
    },
    {
      "cell_type": "code",
      "source": [
        "model = keras.Sequential([\n",
        "    keras.layers.Dense(20, activation='relu'),\n",
        "    keras.layers.Dense(20),\n",
        "    keras.layers.Dense(20),\n",
        "    keras.layers.Dense(20),\n",
        "    keras.layers.Dense(20),\n",
        "    keras.layers.Dense(20),\n",
        "    keras.layers.Dense(1)\n",
        "])\n",
        "\n",
        "model.compile(optimizer='adam',\n",
        "              loss='mse',\n",
        "              metrics=['mae', 'mse'])\n",
        "\n",
        "model.fit(train_features, train_labels, epochs=5)\n",
        "\n",
        "test_loss, test_mae, test_mse = model.evaluate(test_features, test_labels, verbose=2)"
      ],
      "metadata": {
        "id": "tpJdFBDiLwXB",
        "outputId": "29eb3437-98ad-4d4f-f862-96b4ae524ad1",
        "colab": {
          "base_uri": "https://localhost:8080/"
        }
      },
      "execution_count": 49,
      "outputs": [
        {
          "output_type": "stream",
          "name": "stdout",
          "text": [
            "Epoch 1/5\n",
            "13/13 [==============================] - 1s 3ms/step - loss: 4966.2954 - mae: 53.5808 - mse: 4966.2954\n",
            "Epoch 2/5\n",
            "13/13 [==============================] - 0s 3ms/step - loss: 467.1973 - mae: 17.4985 - mse: 467.1973\n",
            "Epoch 3/5\n",
            "13/13 [==============================] - 0s 3ms/step - loss: 197.1447 - mae: 11.1463 - mse: 197.1447\n",
            "Epoch 4/5\n",
            "13/13 [==============================] - 0s 3ms/step - loss: 81.2683 - mae: 7.3149 - mse: 81.2683\n",
            "Epoch 5/5\n",
            "13/13 [==============================] - 0s 3ms/step - loss: 67.5796 - mae: 5.8916 - mse: 67.5796\n",
            "4/4 - 0s - loss: 57.5951 - mae: 5.8222 - mse: 57.5951 - 117ms/epoch - 29ms/step\n"
          ]
        }
      ]
    },
    {
      "cell_type": "code",
      "source": [
        "df.loc[-1] = ['adam', '7', '5', test_mae, test_mse]\n",
        "df.index = df.index + 1\n",
        "df = df.sort_index()"
      ],
      "metadata": {
        "id": "BrlG6xqyL0PA"
      },
      "execution_count": 50,
      "outputs": []
    },
    {
      "cell_type": "code",
      "source": [
        "model = keras.Sequential([\n",
        "    keras.layers.Dense(20, activation='relu'),\n",
        "    keras.layers.Dense(20),\n",
        "    keras.layers.Dense(20),\n",
        "    keras.layers.Dense(20),\n",
        "    keras.layers.Dense(20),\n",
        "    keras.layers.Dense(20),\n",
        "    keras.layers.Dense(1)\n",
        "])\n",
        "\n",
        "model.compile(optimizer='adam',\n",
        "              loss='mse',\n",
        "              metrics=['mae', 'mse'])\n",
        "\n",
        "model.fit(train_features, train_labels, epochs=10)\n",
        "\n",
        "test_loss, test_mae, test_mse = model.evaluate(test_features, test_labels, verbose=2)"
      ],
      "metadata": {
        "id": "ODRMo-lvL4JC",
        "outputId": "0a9b56ca-19e3-488c-b886-e748b663d413",
        "colab": {
          "base_uri": "https://localhost:8080/"
        }
      },
      "execution_count": 51,
      "outputs": [
        {
          "output_type": "stream",
          "name": "stdout",
          "text": [
            "Epoch 1/10\n",
            "13/13 [==============================] - 1s 3ms/step - loss: 3072.2212 - mae: 42.9633 - mse: 3072.2212\n",
            "Epoch 2/10\n",
            "13/13 [==============================] - 0s 3ms/step - loss: 689.8084 - mae: 21.9618 - mse: 689.8084\n",
            "Epoch 3/10\n",
            "13/13 [==============================] - 0s 3ms/step - loss: 273.6493 - mae: 13.2729 - mse: 273.6493\n",
            "Epoch 4/10\n",
            "13/13 [==============================] - 0s 3ms/step - loss: 152.9587 - mae: 9.3948 - mse: 152.9587\n",
            "Epoch 5/10\n",
            "13/13 [==============================] - 0s 3ms/step - loss: 133.2682 - mae: 9.3084 - mse: 133.2682\n",
            "Epoch 6/10\n",
            "13/13 [==============================] - 0s 3ms/step - loss: 112.9546 - mae: 8.4634 - mse: 112.9546\n",
            "Epoch 7/10\n",
            "13/13 [==============================] - 0s 3ms/step - loss: 101.3648 - mae: 7.8271 - mse: 101.3648\n",
            "Epoch 8/10\n",
            "13/13 [==============================] - 0s 3ms/step - loss: 91.0179 - mae: 7.3587 - mse: 91.0179\n",
            "Epoch 9/10\n",
            "13/13 [==============================] - 0s 3ms/step - loss: 82.5232 - mae: 6.8277 - mse: 82.5232\n",
            "Epoch 10/10\n",
            "13/13 [==============================] - 0s 3ms/step - loss: 79.7404 - mae: 6.7779 - mse: 79.7404\n",
            "4/4 - 0s - loss: 75.8774 - mae: 6.7086 - mse: 75.8774 - 120ms/epoch - 30ms/step\n"
          ]
        }
      ]
    },
    {
      "cell_type": "code",
      "source": [
        "df.loc[-1] = ['adam', '7', '10', test_mae, test_mse]\n",
        "df.index = df.index + 1\n",
        "df = df.sort_index()"
      ],
      "metadata": {
        "id": "9dvp8H0hL79B"
      },
      "execution_count": 52,
      "outputs": []
    },
    {
      "cell_type": "code",
      "source": [
        "model = keras.Sequential([\n",
        "    keras.layers.Dense(20, activation='relu'),\n",
        "    keras.layers.Dense(20),\n",
        "    keras.layers.Dense(20),\n",
        "    keras.layers.Dense(20),\n",
        "    keras.layers.Dense(20),\n",
        "    keras.layers.Dense(20),\n",
        "    keras.layers.Dense(1)\n",
        "])\n",
        "\n",
        "model.compile(optimizer='adam',\n",
        "              loss='mse',\n",
        "              metrics=['mae', 'mse'])\n",
        "\n",
        "model.fit(train_features, train_labels, epochs=15)\n",
        "\n",
        "test_loss, test_mae, test_mse = model.evaluate(test_features, test_labels, verbose=2)"
      ],
      "metadata": {
        "id": "8fjOruzUL_vE",
        "outputId": "e492d824-cb1d-4626-cb17-f97f9d4b45c6",
        "colab": {
          "base_uri": "https://localhost:8080/"
        }
      },
      "execution_count": 53,
      "outputs": [
        {
          "output_type": "stream",
          "name": "stdout",
          "text": [
            "Epoch 1/15\n",
            "13/13 [==============================] - 1s 3ms/step - loss: 3219.0742 - mae: 45.9669 - mse: 3219.0742\n",
            "Epoch 2/15\n",
            "13/13 [==============================] - 0s 3ms/step - loss: 417.7112 - mae: 17.3258 - mse: 417.7112\n",
            "Epoch 3/15\n",
            "13/13 [==============================] - 0s 3ms/step - loss: 174.7261 - mae: 11.0718 - mse: 174.7261\n",
            "Epoch 4/15\n",
            "13/13 [==============================] - 0s 3ms/step - loss: 100.1059 - mae: 7.1868 - mse: 100.1059\n",
            "Epoch 5/15\n",
            "13/13 [==============================] - 0s 3ms/step - loss: 79.0661 - mae: 6.9539 - mse: 79.0661\n",
            "Epoch 6/15\n",
            "13/13 [==============================] - 0s 3ms/step - loss: 71.4384 - mae: 5.8236 - mse: 71.4384\n",
            "Epoch 7/15\n",
            "13/13 [==============================] - 0s 3ms/step - loss: 66.9026 - mae: 6.1863 - mse: 66.9026\n",
            "Epoch 8/15\n",
            "13/13 [==============================] - 0s 3ms/step - loss: 63.1222 - mae: 5.7463 - mse: 63.1222\n",
            "Epoch 9/15\n",
            "13/13 [==============================] - 0s 3ms/step - loss: 60.1983 - mae: 5.6810 - mse: 60.1983\n",
            "Epoch 10/15\n",
            "13/13 [==============================] - 0s 3ms/step - loss: 58.3246 - mae: 5.4847 - mse: 58.3246\n",
            "Epoch 11/15\n",
            "13/13 [==============================] - 0s 3ms/step - loss: 56.5915 - mae: 5.4868 - mse: 56.5915\n",
            "Epoch 12/15\n",
            "13/13 [==============================] - 0s 3ms/step - loss: 56.7966 - mae: 5.4978 - mse: 56.7966\n",
            "Epoch 13/15\n",
            "13/13 [==============================] - 0s 3ms/step - loss: 55.2034 - mae: 5.1149 - mse: 55.2034\n",
            "Epoch 14/15\n",
            "13/13 [==============================] - 0s 3ms/step - loss: 54.7132 - mae: 5.3260 - mse: 54.7132\n",
            "Epoch 15/15\n",
            "13/13 [==============================] - 0s 3ms/step - loss: 52.0410 - mae: 5.0321 - mse: 52.0410\n",
            "4/4 - 0s - loss: 58.6698 - mae: 5.8525 - mse: 58.6698 - 112ms/epoch - 28ms/step\n"
          ]
        }
      ]
    },
    {
      "cell_type": "code",
      "source": [
        "df.loc[-1] = ['adam', '7', '15', test_mae, test_mse]\n",
        "df.index = df.index + 1\n",
        "df = df.sort_index()"
      ],
      "metadata": {
        "id": "HVHq1n1VME2u"
      },
      "execution_count": 54,
      "outputs": []
    },
    {
      "cell_type": "code",
      "source": [
        "df"
      ],
      "metadata": {
        "id": "ulk6g8mJMKjw",
        "outputId": "76046f71-290b-49ad-88f4-31acc8336684",
        "colab": {
          "base_uri": "https://localhost:8080/",
          "height": 238
        }
      },
      "execution_count": 55,
      "outputs": [
        {
          "output_type": "execute_result",
          "data": {
            "text/plain": [
              "  optimizer layers epochs        mae          mse\n",
              "0      adam      7     15   5.852481    58.669827\n",
              "1      adam      7     10   6.708601    75.877434\n",
              "2      adam      7      5   5.822210    57.595119\n",
              "3      adam      5      5   6.192352    69.663300\n",
              "4      adam      5      3  13.196624   249.507080\n",
              "5      adam      2      3  40.026409  2082.690918"
            ],
            "text/html": [
              "\n",
              "  <div id=\"df-c902920f-42e6-4688-a61f-dd223325af9f\">\n",
              "    <div class=\"colab-df-container\">\n",
              "      <div>\n",
              "<style scoped>\n",
              "    .dataframe tbody tr th:only-of-type {\n",
              "        vertical-align: middle;\n",
              "    }\n",
              "\n",
              "    .dataframe tbody tr th {\n",
              "        vertical-align: top;\n",
              "    }\n",
              "\n",
              "    .dataframe thead th {\n",
              "        text-align: right;\n",
              "    }\n",
              "</style>\n",
              "<table border=\"1\" class=\"dataframe\">\n",
              "  <thead>\n",
              "    <tr style=\"text-align: right;\">\n",
              "      <th></th>\n",
              "      <th>optimizer</th>\n",
              "      <th>layers</th>\n",
              "      <th>epochs</th>\n",
              "      <th>mae</th>\n",
              "      <th>mse</th>\n",
              "    </tr>\n",
              "  </thead>\n",
              "  <tbody>\n",
              "    <tr>\n",
              "      <th>0</th>\n",
              "      <td>adam</td>\n",
              "      <td>7</td>\n",
              "      <td>15</td>\n",
              "      <td>5.852481</td>\n",
              "      <td>58.669827</td>\n",
              "    </tr>\n",
              "    <tr>\n",
              "      <th>1</th>\n",
              "      <td>adam</td>\n",
              "      <td>7</td>\n",
              "      <td>10</td>\n",
              "      <td>6.708601</td>\n",
              "      <td>75.877434</td>\n",
              "    </tr>\n",
              "    <tr>\n",
              "      <th>2</th>\n",
              "      <td>adam</td>\n",
              "      <td>7</td>\n",
              "      <td>5</td>\n",
              "      <td>5.822210</td>\n",
              "      <td>57.595119</td>\n",
              "    </tr>\n",
              "    <tr>\n",
              "      <th>3</th>\n",
              "      <td>adam</td>\n",
              "      <td>5</td>\n",
              "      <td>5</td>\n",
              "      <td>6.192352</td>\n",
              "      <td>69.663300</td>\n",
              "    </tr>\n",
              "    <tr>\n",
              "      <th>4</th>\n",
              "      <td>adam</td>\n",
              "      <td>5</td>\n",
              "      <td>3</td>\n",
              "      <td>13.196624</td>\n",
              "      <td>249.507080</td>\n",
              "    </tr>\n",
              "    <tr>\n",
              "      <th>5</th>\n",
              "      <td>adam</td>\n",
              "      <td>2</td>\n",
              "      <td>3</td>\n",
              "      <td>40.026409</td>\n",
              "      <td>2082.690918</td>\n",
              "    </tr>\n",
              "  </tbody>\n",
              "</table>\n",
              "</div>\n",
              "      <button class=\"colab-df-convert\" onclick=\"convertToInteractive('df-c902920f-42e6-4688-a61f-dd223325af9f')\"\n",
              "              title=\"Convert this dataframe to an interactive table.\"\n",
              "              style=\"display:none;\">\n",
              "        \n",
              "  <svg xmlns=\"http://www.w3.org/2000/svg\" height=\"24px\"viewBox=\"0 0 24 24\"\n",
              "       width=\"24px\">\n",
              "    <path d=\"M0 0h24v24H0V0z\" fill=\"none\"/>\n",
              "    <path d=\"M18.56 5.44l.94 2.06.94-2.06 2.06-.94-2.06-.94-.94-2.06-.94 2.06-2.06.94zm-11 1L8.5 8.5l.94-2.06 2.06-.94-2.06-.94L8.5 2.5l-.94 2.06-2.06.94zm10 10l.94 2.06.94-2.06 2.06-.94-2.06-.94-.94-2.06-.94 2.06-2.06.94z\"/><path d=\"M17.41 7.96l-1.37-1.37c-.4-.4-.92-.59-1.43-.59-.52 0-1.04.2-1.43.59L10.3 9.45l-7.72 7.72c-.78.78-.78 2.05 0 2.83L4 21.41c.39.39.9.59 1.41.59.51 0 1.02-.2 1.41-.59l7.78-7.78 2.81-2.81c.8-.78.8-2.07 0-2.86zM5.41 20L4 18.59l7.72-7.72 1.47 1.35L5.41 20z\"/>\n",
              "  </svg>\n",
              "      </button>\n",
              "      \n",
              "  <style>\n",
              "    .colab-df-container {\n",
              "      display:flex;\n",
              "      flex-wrap:wrap;\n",
              "      gap: 12px;\n",
              "    }\n",
              "\n",
              "    .colab-df-convert {\n",
              "      background-color: #E8F0FE;\n",
              "      border: none;\n",
              "      border-radius: 50%;\n",
              "      cursor: pointer;\n",
              "      display: none;\n",
              "      fill: #1967D2;\n",
              "      height: 32px;\n",
              "      padding: 0 0 0 0;\n",
              "      width: 32px;\n",
              "    }\n",
              "\n",
              "    .colab-df-convert:hover {\n",
              "      background-color: #E2EBFA;\n",
              "      box-shadow: 0px 1px 2px rgba(60, 64, 67, 0.3), 0px 1px 3px 1px rgba(60, 64, 67, 0.15);\n",
              "      fill: #174EA6;\n",
              "    }\n",
              "\n",
              "    [theme=dark] .colab-df-convert {\n",
              "      background-color: #3B4455;\n",
              "      fill: #D2E3FC;\n",
              "    }\n",
              "\n",
              "    [theme=dark] .colab-df-convert:hover {\n",
              "      background-color: #434B5C;\n",
              "      box-shadow: 0px 1px 3px 1px rgba(0, 0, 0, 0.15);\n",
              "      filter: drop-shadow(0px 1px 2px rgba(0, 0, 0, 0.3));\n",
              "      fill: #FFFFFF;\n",
              "    }\n",
              "  </style>\n",
              "\n",
              "      <script>\n",
              "        const buttonEl =\n",
              "          document.querySelector('#df-c902920f-42e6-4688-a61f-dd223325af9f button.colab-df-convert');\n",
              "        buttonEl.style.display =\n",
              "          google.colab.kernel.accessAllowed ? 'block' : 'none';\n",
              "\n",
              "        async function convertToInteractive(key) {\n",
              "          const element = document.querySelector('#df-c902920f-42e6-4688-a61f-dd223325af9f');\n",
              "          const dataTable =\n",
              "            await google.colab.kernel.invokeFunction('convertToInteractive',\n",
              "                                                     [key], {});\n",
              "          if (!dataTable) return;\n",
              "\n",
              "          const docLinkHtml = 'Like what you see? Visit the ' +\n",
              "            '<a target=\"_blank\" href=https://colab.research.google.com/notebooks/data_table.ipynb>data table notebook</a>'\n",
              "            + ' to learn more about interactive tables.';\n",
              "          element.innerHTML = '';\n",
              "          dataTable['output_type'] = 'display_data';\n",
              "          await google.colab.output.renderOutput(dataTable, element);\n",
              "          const docLink = document.createElement('div');\n",
              "          docLink.innerHTML = docLinkHtml;\n",
              "          element.appendChild(docLink);\n",
              "        }\n",
              "      </script>\n",
              "    </div>\n",
              "  </div>\n",
              "  "
            ]
          },
          "metadata": {},
          "execution_count": 55
        }
      ]
    },
    {
      "cell_type": "code",
      "source": [
        ""
      ],
      "metadata": {
        "id": "Rp3MlaqoMNIL"
      },
      "execution_count": null,
      "outputs": []
    }
  ]
}